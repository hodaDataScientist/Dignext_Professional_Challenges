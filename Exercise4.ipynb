{
 "cells": [
  {
   "cell_type": "code",
   "execution_count": null,
   "metadata": {},
   "outputs": [],
   "source": [
    "def merge_intervals(intervals):\n",
    "    \n",
    "    sorted_intervals =[]\n",
    "    \n",
    "    for i in intervals:\n",
    "        if i[0] > i[1]:\n",
    "            sorted_intervals.append((i[1],i[0]))\n",
    "        else:\n",
    "            sorted_intervals.append(i)\n",
    "            \n",
    "    merged = [sorted_intervals[0]]\n",
    "    \n",
    "    for interval in sorted_intervals[1:]:\n",
    "        if interval[0] <= merged[-1][1]:\n",
    "            merged[-1] = (merged[-1][0], max(merged[-1][1], interval[1]))\n",
    "        else:\n",
    "            merged.append(interval)\n",
    "    \n",
    "    return merged\n"
   ]
  },
  {
   "cell_type": "code",
   "execution_count": null,
   "metadata": {},
   "outputs": [],
   "source": [
    "# Given Input\n",
    "intervals = [(3, 1), (6, 2), (10, 8)]\n",
    "\n",
    "# Merge overlapping intervals\n",
    "merged_intervals = merge_intervals(intervals)\n",
    "\n",
    "print(\"Merged Intervals:\", merged_intervals)"
   ]
  }
 ],
 "metadata": {
  "kernelspec": {
   "display_name": "base",
   "language": "python",
   "name": "python3"
  },
  "language_info": {
   "name": "python",
   "version": "3.9.7"
  }
 },
 "nbformat": 4,
 "nbformat_minor": 2
}
