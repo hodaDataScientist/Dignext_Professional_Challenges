{
 "cells": [
  {
   "cell_type": "code",
   "execution_count": null,
   "metadata": {},
   "outputs": [],
   "source": [
    "def find_anagrams(strings):\n",
    "    anagram_dict = {}\n",
    "\n",
    "    # Group strings by sorted characters\n",
    "    for string in strings:\n",
    "        sorted_str = ''.join(sorted(string))\n",
    "        if sorted_str in anagram_dict:\n",
    "            anagram_dict[sorted_str].append(string)\n",
    "        else:\n",
    "            anagram_dict[sorted_str] = [string]\n",
    "\n",
    "    return anagram_dict.values()\n"
   ]
  },
  {
   "cell_type": "code",
   "execution_count": null,
   "metadata": {},
   "outputs": [],
   "source": [
    "# Given list of strings\n",
    "strings = [\"eat\", \"tea\", \"tan\", \"ate\", \"nat\", \"bat\"]\n",
    "\n",
    "# Find strings with the same characters\n",
    "anagrams = find_anagrams(strings)\n",
    "\n",
    "print(anagrams)"
   ]
  }
 ],
 "metadata": {
  "language_info": {
   "name": "python"
  }
 },
 "nbformat": 4,
 "nbformat_minor": 2
}
