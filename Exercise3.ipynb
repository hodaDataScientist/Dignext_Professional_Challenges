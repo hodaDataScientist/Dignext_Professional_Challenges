{
 "cells": [
  {
   "cell_type": "code",
   "execution_count": null,
   "metadata": {},
   "outputs": [],
   "source": [
    "def longest_consecutive_sequence(nums):\n",
    "    num_set = set(nums)\n",
    "    max_length = 0\n",
    "\n",
    "    for num in num_set:\n",
    "        if num - 1 not in num_set:\n",
    "            current_num = num\n",
    "            current_length = 1\n",
    "\n",
    "            while current_num + 1 in num_set:\n",
    "                current_num += 1\n",
    "                current_length += 1\n",
    "\n",
    "            max_length = max(max_length, current_length)\n",
    "\n",
    "    return max_length"
   ]
  },
  {
   "cell_type": "code",
   "execution_count": null,
   "metadata": {},
   "outputs": [],
   "source": [
    "# Input list\n",
    "nums = [100, 4, 200, 1, 3, 2]\n",
    "\n",
    "# Output\n",
    "print(longest_consecutive_sequence(nums)) # Output: 4"
   ]
  }
 ],
 "metadata": {
  "language_info": {
   "name": "python"
  }
 },
 "nbformat": 4,
 "nbformat_minor": 2
}
